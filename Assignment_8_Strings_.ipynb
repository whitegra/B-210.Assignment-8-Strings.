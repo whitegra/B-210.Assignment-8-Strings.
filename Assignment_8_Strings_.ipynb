{
  "nbformat": 4,
  "nbformat_minor": 0,
  "metadata": {
    "colab": {
      "provenance": []
    },
    "kernelspec": {
      "name": "python3",
      "display_name": "Python 3"
    },
    "language_info": {
      "name": "python"
    }
  },
  "cells": [
    {
      "cell_type": "markdown",
      "source": [
        "def() for encryption"
      ],
      "metadata": {
        "id": "yJmz_HkFlqh-"
      }
    },
    {
      "cell_type": "code",
      "source": [
        "def analyze_encryption():\n",
        "    \"\"\"\n",
        "    This function takes an encrypted user_string as input and calculates the number of numeric characters,\n",
        "\n",
        "    The output displays these counts to the user in an aesthetically pleasing manner.\n",
        "\n",
        "    The variables used are: num_count, lowercase_count, uppercase_count, and char_count.\n",
        "    \"\"\"\n",
        "    # user enter string:\n",
        "    user_string = input(\"Enter the message you would like to analyze: \")\n",
        "\n",
        "    # initialize all counts to zero for the types of characters before the loop:\n",
        "    # innitialize numbers count to 0:\n",
        "    num_count = 0\n",
        "    # initialize lowercase char count to 0:\n",
        "    lowercase_count = 0\n",
        "    # initialize uppercase char count to 0:\n",
        "    uppercase_count = 0\n",
        "    # initialize other symbol count to 0:\n",
        "    char_count = 0\n",
        "\n",
        "    # for every character in the user_string:\n",
        "    for char in user_string:\n",
        "      # if the characterin the string is a space, then skip it.\n",
        "        if char.isspace():\n",
        "            continue\n",
        "        # if character is numeric then add 1:\n",
        "        elif char.isnumeric():\n",
        "            num_count += 1\n",
        "        # else if the chracter is lowercaase, then add 1:\n",
        "        elif char.islower():\n",
        "            lowercase_count += 1\n",
        "        # else if character is uppercase, then add 1:\n",
        "        elif char.isupper():\n",
        "            uppercase_count += 1\n",
        "        # if the character is none of those, then it is a symbol (char), so add 1:\n",
        "        else:\n",
        "            char_count += 1\n",
        "\n",
        "    # to print results in an 'aesthetically pleasing' way, use the string format to print the numbers of values:\n",
        "    print(\"_______________________________________________\")\n",
        "    print(f\"number of numeric characters: {num_count}\")\n",
        "    print(f\"number of lowercase characters: {lowercase_count}\")\n",
        "    print(f\"number of uppercase characters: {uppercase_count}\")\n",
        "    print(f\"number of symbols: {char_count}\")\n",
        "    print(\"_______________________________________________\")"
      ],
      "metadata": {
        "id": "cy7d2Op2lqtY"
      },
      "execution_count": null,
      "outputs": []
    },
    {
      "cell_type": "markdown",
      "source": [
        "def() for secret message\n"
      ],
      "metadata": {
        "id": "6LZRcr6Ulq0a"
      }
    },
    {
      "cell_type": "code",
      "source": [
        "def decode_acrostic():\n",
        "    \"\"\"\n",
        "    Prompts the user to enter an acrostic message, then decodes a secret message\n",
        "    by extracting specific letters from each line of the given text, where lines\n",
        "    are separated by '\\n' or '\\t'.\n",
        "\n",
        "    Returns:\n",
        "    The decoded secret message as a string.\n",
        "    \"\"\"\n",
        "    # Prompt the user for the message\n",
        "    message = input(\"Enter the acrostic message you would like to decode: \")\n",
        "\n",
        "    # replace all '\\t' with '\\n' then split the message by '\\n' to create the lines to decode from\n",
        "    lines = message.replace('\\t', '\\n').split('\\n')\n",
        "\n",
        "    # innitialize a list to contain the decoded secret message\n",
        "    secret_message = []\n",
        "\n",
        "    # for each line in the line of the given message...\n",
        "    for line in lines:\n",
        "        # ensure the line has at least one character to avoid index errors\n",
        "        if len(line) > 0:\n",
        "            secret_message.append(line[0])  # apppend the first character of each line into the secret message list\n",
        "\n",
        "    # return: join all the first letters from the rows in the user's message to print the message decoded\n",
        "    return ''.join(secret_message)\n",
        "\n",
        "# call the function and print the decoded message\n",
        "decoded_message = decode_acrostic()\n",
        "print(decoded_message)\n"
      ],
      "metadata": {
        "id": "7IJk1C0_lq6L",
        "colab": {
          "base_uri": "https://localhost:8080/"
        },
        "outputId": "5f8c9c0f-e651-4ab8-b370-1061436ae710"
      },
      "execution_count": null,
      "outputs": [
        {
          "output_type": "stream",
          "name": "stdout",
          "text": [
            "\n"
          ]
        }
      ]
    },
    {
      "cell_type": "markdown",
      "source": [
        "MAIN"
      ],
      "metadata": {
        "id": "lfbJbsdRlrBa"
      }
    },
    {
      "cell_type": "code",
      "source": [
        "while True:\n",
        "  # for user to chose the program\n",
        "  program_choice = input(\"Enter the program you would like to run: ('e' for analyze encryption or 'a' for acrostic message decoder: )\")\n",
        "\n",
        "  # in case user enters an invalid program choice\n",
        "  if program_choice != 'e' and program_choice != 'a':\n",
        "    print(\"Invalid choice. Please try again. \")\n",
        "    continue\n",
        "\n",
        "  # FOR ANALYZING ENCYPTED MESSAGES:\n",
        "  elif program_choice == 'e':\n",
        "    while True:\n",
        "      analyze_encryption()\n",
        "      run_encrypt = input(\"Run again? ('y/n'):\")\n",
        "      if run_encrypt != 'y':\n",
        "        break\n",
        "\n",
        "  # FOR DECODING ACROSTIC MESSAGE:\n",
        "  elif program_choice == 'a':\n",
        "    while True:\n",
        "      decode_acrostic()\n",
        "      run_acrostic = input(\"Run again? ('y/n'): \")\n",
        "      if run_acrostic != 'y':\n",
        "        break\n",
        "\n",
        "  # invlaid choice\n",
        "  else:\n",
        "    print(\"invalid choice. Please try again. /n\")\n",
        "    continue\n",
        "\n",
        "# run program again (while loop)\n",
        "  run_program_again = input(\"Would you like to run the program again? ('y' for yes, 'stop' to exit): \")\n",
        "  if run_program_again != 'y':\n",
        "    break\n",
        "\n"
      ],
      "metadata": {
        "id": "VUuHB3n3lrG7",
        "colab": {
          "base_uri": "https://localhost:8080/"
        },
        "outputId": "3a1dcf72-53d4-49eb-9077-50709535c9d5"
      },
      "execution_count": null,
      "outputs": [
        {
          "name": "stdout",
          "output_type": "stream",
          "text": [
            "Enter the program you would like to run: ('e' for analyze encryption or 'a' for acrostic message decoder: )e\n",
            "Enter the message you would like to analyze: no\n",
            "_______________________________________________\n",
            "number of numeric characters: 0\n",
            "number of lowercase characters: 2\n",
            "number of uppercase characters: 0\n",
            "number of symbols: 0\n",
            "_______________________________________________\n",
            "Run again? ('y/n'):n\n",
            "Would you like to run the program again? ('y' for yes, 'stop' to exit): m\n"
          ]
        }
      ]
    }
  ]
}